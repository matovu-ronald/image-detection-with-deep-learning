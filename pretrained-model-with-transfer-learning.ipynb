{
 "cells": [
  {
   "cell_type": "code",
   "execution_count": 1,
   "metadata": {
    "collapsed": true,
    "ExecuteTime": {
     "start_time": "2023-05-01T21:35:17.428648Z",
     "end_time": "2023-05-01T21:35:20.345437Z"
    }
   },
   "outputs": [],
   "source": [
    "import numpy as np\n",
    "from keras.preprocessing import image\n",
    "from keras.applications import vgg19"
   ]
  },
  {
   "cell_type": "code",
   "execution_count": 2,
   "outputs": [
    {
     "name": "stdout",
     "output_type": "stream",
     "text": [
      "Downloading data from https://storage.googleapis.com/tensorflow/keras-applications/vgg19/vgg19_weights_tf_dim_ordering_tf_kernels.h5\n",
      "574710816/574710816 [==============================] - 134s 0us/step\n"
     ]
    }
   ],
   "source": [
    "# Load keras VGG19 model that was pre-trained on against the ImageNet databse\n",
    "model = vgg19.VGG19()"
   ],
   "metadata": {
    "collapsed": false,
    "ExecuteTime": {
     "start_time": "2023-05-01T21:37:24.054207Z",
     "end_time": "2023-05-01T21:39:43.324948Z"
    }
   }
  },
  {
   "cell_type": "code",
   "execution_count": 3,
   "outputs": [],
   "source": [
    "# Load the image file\n",
    "# Resize it to 224*224 pixels (required by this model)\n",
    "img = image.image_utils.load_img(\"./images/bay.jpg\", target_size=(224, 224))\n",
    "\n",
    "# Convert the image to numpy array\n",
    "x = image.image_utils.img_to_array(img)\n",
    "\n",
    "# Add fourth dimension since keras expects a list of images\n",
    "x = np.expand_dims(x, axis=0)"
   ],
   "metadata": {
    "collapsed": false,
    "ExecuteTime": {
     "start_time": "2023-05-01T21:45:34.641155Z",
     "end_time": "2023-05-01T21:45:34.733041Z"
    }
   }
  },
  {
   "cell_type": "code",
   "execution_count": 5,
   "outputs": [],
   "source": [
    "# Normalize the input image's pixel values to the range used when training the neural network\n",
    "x = vgg19.preprocess_input(x)"
   ],
   "metadata": {
    "collapsed": false,
    "ExecuteTime": {
     "start_time": "2023-05-01T21:51:18.391658Z",
     "end_time": "2023-05-01T21:51:18.393084Z"
    }
   }
  },
  {
   "cell_type": "code",
   "execution_count": 6,
   "outputs": [
    {
     "name": "stderr",
     "output_type": "stream",
     "text": [
      "2023-05-01 21:51:19.388995: W tensorflow/core/platform/profile_utils/cpu_utils.cc:128] Failed to get CPU frequency: 0 Hz\n"
     ]
    },
    {
     "name": "stdout",
     "output_type": "stream",
     "text": [
      "1/1 [==============================] - 2s 2s/step\n"
     ]
    }
   ],
   "source": [
    "# Run the image through the deep neural network to perform prediction\n",
    "predictions = model.predict(x)"
   ],
   "metadata": {
    "collapsed": false,
    "ExecuteTime": {
     "start_time": "2023-05-01T21:51:19.228897Z",
     "end_time": "2023-05-01T21:51:21.006424Z"
    }
   }
  },
  {
   "cell_type": "code",
   "execution_count": 7,
   "outputs": [
    {
     "name": "stdout",
     "output_type": "stream",
     "text": [
      "Downloading data from https://storage.googleapis.com/download.tensorflow.org/data/imagenet_class_index.json\n",
      "35363/35363 [==============================] - 0s 0us/step\n"
     ]
    }
   ],
   "source": [
    "# Look up the the names of the prediction classes.\n",
    "# Index Zero is the result for the first image\n",
    "predicted_classes = vgg19.decode_predictions(predictions)"
   ],
   "metadata": {
    "collapsed": false,
    "ExecuteTime": {
     "start_time": "2023-05-01T21:51:33.645760Z",
     "end_time": "2023-05-01T21:51:36.780664Z"
    }
   }
  },
  {
   "cell_type": "code",
   "execution_count": 8,
   "outputs": [
    {
     "name": "stdout",
     "output_type": "stream",
     "text": [
      "Prediction: seashore – 0.95\n",
      "Prediction: sandbar – 0.02\n",
      "Prediction: promontory – 0.01\n",
      "Prediction: lakeside – 0.01\n",
      "Prediction: breakwater – 0.00\n"
     ]
    }
   ],
   "source": [
    "# Print the top predictions for the image\n",
    "for imagenet_id, name, likelihood in predicted_classes[0]:\n",
    "    print(f\"Prediction: {name} – {likelihood:.2f}\")"
   ],
   "metadata": {
    "collapsed": false,
    "ExecuteTime": {
     "start_time": "2023-05-01T21:54:24.770514Z",
     "end_time": "2023-05-01T21:54:24.800553Z"
    }
   }
  },
  {
   "cell_type": "code",
   "execution_count": null,
   "outputs": [],
   "source": [],
   "metadata": {
    "collapsed": false
   }
  }
 ],
 "metadata": {
  "kernelspec": {
   "display_name": "Python 3",
   "language": "python",
   "name": "python3"
  },
  "language_info": {
   "codemirror_mode": {
    "name": "ipython",
    "version": 2
   },
   "file_extension": ".py",
   "mimetype": "text/x-python",
   "name": "python",
   "nbconvert_exporter": "python",
   "pygments_lexer": "ipython2",
   "version": "2.7.6"
  }
 },
 "nbformat": 4,
 "nbformat_minor": 0
}
