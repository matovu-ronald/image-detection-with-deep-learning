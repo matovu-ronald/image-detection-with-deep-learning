{
 "cells": [
  {
   "cell_type": "code",
   "execution_count": 46,
   "metadata": {
    "collapsed": true,
    "ExecuteTime": {
     "start_time": "2023-05-01T22:48:45.617895Z",
     "end_time": "2023-05-01T22:48:45.623687Z"
    }
   },
   "outputs": [],
   "source": [
    "from keras.models import model_from_json\n",
    "import numpy as np\n",
    "from keras.preprocessing import image\n",
    "from keras.applications import vgg19\n",
    "from pathlib import Path\n",
    "import joblib"
   ]
  },
  {
   "cell_type": "code",
   "execution_count": 19,
   "outputs": [],
   "source": [
    "# Load keras VGG19 model that was pre-trained on against the ImageNet databse\n",
    "model = vgg19.VGG19()"
   ],
   "metadata": {
    "collapsed": false,
    "ExecuteTime": {
     "start_time": "2023-05-01T22:15:40.058960Z",
     "end_time": "2023-05-01T22:15:42.422233Z"
    }
   }
  },
  {
   "cell_type": "code",
   "execution_count": 20,
   "outputs": [],
   "source": [
    "# Load the image file\n",
    "# Resize it to 224*224 pixels (required by this model)\n",
    "img = image.image_utils.load_img(\"./images/bay.jpg\", target_size=(224, 224))\n",
    "\n",
    "# Convert the image to numpy array\n",
    "x = image.image_utils.img_to_array(img)\n",
    "\n",
    "# Add fourth dimension since keras expects a list of images\n",
    "x = np.expand_dims(x, axis=0)"
   ],
   "metadata": {
    "collapsed": false,
    "ExecuteTime": {
     "start_time": "2023-05-01T22:15:42.422168Z",
     "end_time": "2023-05-01T22:15:42.450664Z"
    }
   }
  },
  {
   "cell_type": "code",
   "execution_count": 21,
   "outputs": [],
   "source": [
    "# Normalize the input image's pixel values to the range used when training the neural network\n",
    "x = vgg19.preprocess_input(x)"
   ],
   "metadata": {
    "collapsed": false,
    "ExecuteTime": {
     "start_time": "2023-05-01T22:15:42.449728Z",
     "end_time": "2023-05-01T22:15:42.455588Z"
    }
   }
  },
  {
   "cell_type": "code",
   "execution_count": 22,
   "outputs": [
    {
     "name": "stdout",
     "output_type": "stream",
     "text": [
      "1/1 [==============================] - 0s 296ms/step\n"
     ]
    }
   ],
   "source": [
    "# Run the image through the deep neural network to perform prediction\n",
    "predictions = model.predict(x)"
   ],
   "metadata": {
    "collapsed": false,
    "ExecuteTime": {
     "start_time": "2023-05-01T22:15:42.454496Z",
     "end_time": "2023-05-01T22:15:42.802392Z"
    }
   }
  },
  {
   "cell_type": "code",
   "execution_count": 23,
   "outputs": [],
   "source": [
    "# Look up the the names of the prediction classes.\n",
    "# Index Zero is the result for the first image\n",
    "predicted_classes = vgg19.decode_predictions(predictions)"
   ],
   "metadata": {
    "collapsed": false,
    "ExecuteTime": {
     "start_time": "2023-05-01T22:15:42.803396Z",
     "end_time": "2023-05-01T22:15:42.804821Z"
    }
   }
  },
  {
   "cell_type": "code",
   "execution_count": 24,
   "outputs": [
    {
     "name": "stdout",
     "output_type": "stream",
     "text": [
      "Prediction: seashore – 0.60\n",
      "Prediction: promontory – 0.23\n",
      "Prediction: sandbar – 0.07\n",
      "Prediction: lakeside – 0.04\n",
      "Prediction: breakwater – 0.02\n"
     ]
    }
   ],
   "source": [
    "# Print the top predictions for the image\n",
    "for imagenet_id, name, likelihood in predicted_classes[0]:\n",
    "    print(f\"Prediction: {name} – {likelihood:.2f}\")"
   ],
   "metadata": {
    "collapsed": false,
    "ExecuteTime": {
     "start_time": "2023-05-01T22:15:42.805858Z",
     "end_time": "2023-05-01T22:15:42.807610Z"
    }
   }
  },
  {
   "cell_type": "code",
   "execution_count": 30,
   "outputs": [],
   "source": [
    "# Import training data\n",
    "dog_path = Path(\"./images/training_data/dogs\")\n",
    "not_dog_path = Path(\"./images/training_data/not_dogs\")"
   ],
   "metadata": {
    "collapsed": false,
    "ExecuteTime": {
     "start_time": "2023-05-01T22:18:47.325970Z",
     "end_time": "2023-05-01T22:18:47.327198Z"
    }
   }
  },
  {
   "cell_type": "code",
   "execution_count": 31,
   "outputs": [],
   "source": [
    "# Load images in to the images array and create labels (1 dog, 0 not dog)\n",
    "images = []\n",
    "labels = []\n",
    "\n",
    "# Load all the dog images\n",
    "for img in dog_path.glob(\"*.png\"):\n",
    "    # Load images from the disk\n",
    "    img = image.image_utils.load_img(img)\n",
    "\n",
    "    # Convert the image to numpy array\n",
    "    image_array = image.image_utils.img_to_array(img)\n",
    "\n",
    "    # Add the image to a list of images\n",
    "    images.append(image_array)\n",
    "\n",
    "    # For each dog image, the label should 1\n",
    "    labels.append(1)\n",
    "\n",
    "# Load all the not-dog images\n",
    "for img in not_dog_path.glob(\"*.png\"):\n",
    "    # Load images from the disk\n",
    "    img = image.image_utils.load_img(img)\n",
    "\n",
    "    # Convert the image to numpy array\n",
    "    image_array = image.image_utils.img_to_array(img)\n",
    "\n",
    "    # Add the image to a list of images\n",
    "    images.append(image_array)\n",
    "\n",
    "    # For each not-dog image, the label should 0\n",
    "    labels.append(0)"
   ],
   "metadata": {
    "collapsed": false,
    "ExecuteTime": {
     "start_time": "2023-05-01T22:18:48.160127Z",
     "end_time": "2023-05-01T22:18:48.203755Z"
    }
   }
  },
  {
   "cell_type": "code",
   "execution_count": 32,
   "outputs": [
    {
     "name": "stdout",
     "output_type": "stream",
     "text": [
      "Downloading data from https://storage.googleapis.com/tensorflow/keras-applications/vgg19/vgg19_weights_tf_dim_ordering_tf_kernels_notop.h5\n",
      "80134624/80134624 [==============================] - 24s 0us/step\n",
      "2/2 [==============================] - 1s 294ms/step\n"
     ]
    }
   ],
   "source": [
    "# Create a single numpy array with all the images loaded\n",
    "X_train = np.array(images)\n",
    "\n",
    "# Create a single numpy array with all the labels created\n",
    "Y_train = np.array(labels)\n",
    "\n",
    "# Normalize image data to (0 - 1) range\n",
    "X_train = vgg19.preprocess_input(X_train)\n",
    "\n",
    "# Load a pre-trained neural network to use as feature extractor\n",
    "pre_trained_nn = vgg19.VGG19(weights=\"imagenet\", include_top=False, input_shape=(64, 64, 3))\n",
    "\n",
    "# Extract features for each image (all in one pass)\n",
    "features_X = pre_trained_nn.predict(X_train)"
   ],
   "metadata": {
    "collapsed": false,
    "ExecuteTime": {
     "start_time": "2023-05-01T22:24:32.839306Z",
     "end_time": "2023-05-01T22:24:59.691934Z"
    }
   }
  },
  {
   "cell_type": "code",
   "execution_count": 33,
   "outputs": [
    {
     "data": {
      "text/plain": "['X_train.dat']"
     },
     "execution_count": 33,
     "metadata": {},
     "output_type": "execute_result"
    }
   ],
   "source": [
    "# Save the the array of extracted features to a file\n",
    "joblib.dump(features_X, \"X_train.dat\")"
   ],
   "metadata": {
    "collapsed": false,
    "ExecuteTime": {
     "start_time": "2023-05-01T22:25:33.471156Z",
     "end_time": "2023-05-01T22:25:33.519052Z"
    }
   }
  },
  {
   "cell_type": "code",
   "execution_count": 34,
   "outputs": [
    {
     "data": {
      "text/plain": "['Y_train.dat']"
     },
     "execution_count": 34,
     "metadata": {},
     "output_type": "execute_result"
    }
   ],
   "source": [
    "# Save the matching array of expected values to a file\n",
    "joblib.dump(Y_train, \"Y_train.dat\")"
   ],
   "metadata": {
    "collapsed": false,
    "ExecuteTime": {
     "start_time": "2023-05-01T22:26:15.699956Z",
     "end_time": "2023-05-01T22:26:15.746252Z"
    }
   }
  },
  {
   "cell_type": "code",
   "execution_count": 35,
   "outputs": [],
   "source": [
    "# Load the extracted features and matching expected values from the .dat files\n",
    "X_train = joblib.load(\"X_train.dat\")\n",
    "Y_train = joblib.load(\"Y_train.dat\")"
   ],
   "metadata": {
    "collapsed": false,
    "ExecuteTime": {
     "start_time": "2023-05-01T22:28:56.482693Z",
     "end_time": "2023-05-01T22:28:56.497487Z"
    }
   }
  },
  {
   "cell_type": "code",
   "execution_count": 36,
   "outputs": [],
   "source": [
    "from keras.models import Sequential\n",
    "from keras.layers import Dense, Dropout, Flatten"
   ],
   "metadata": {
    "collapsed": false,
    "ExecuteTime": {
     "start_time": "2023-05-01T22:30:35.562086Z",
     "end_time": "2023-05-01T22:30:35.569753Z"
    }
   }
  },
  {
   "cell_type": "code",
   "execution_count": 37,
   "outputs": [],
   "source": [
    "# Create a model and add layers\n",
    "model = Sequential()\n",
    "\n",
    "# Flatten the convolutional layer input\n",
    "model.add(Flatten(input_shape=X_train.shape[1:]))\n",
    "\n",
    "# Add the dense layers\n",
    "model.add(Dense(256, activation=\"relu\"))\n",
    "model.add(Dropout(0.5))\n",
    "model.add(Dense(1, activation=\"sigmoid\"))"
   ],
   "metadata": {
    "collapsed": false,
    "ExecuteTime": {
     "start_time": "2023-05-01T22:33:32.346256Z",
     "end_time": "2023-05-01T22:33:32.433796Z"
    }
   }
  },
  {
   "cell_type": "code",
   "execution_count": 38,
   "outputs": [],
   "source": [
    "# Compile the model\n",
    "model.compile(\n",
    "    optimizer=\"adam\",\n",
    "    metrics=[\"accuracy\"],\n",
    "    loss=\"binary_crossentropy\"\n",
    ")"
   ],
   "metadata": {
    "collapsed": false,
    "ExecuteTime": {
     "start_time": "2023-05-01T22:34:51.915824Z",
     "end_time": "2023-05-01T22:34:51.956492Z"
    }
   }
  },
  {
   "cell_type": "code",
   "execution_count": 40,
   "outputs": [
    {
     "name": "stdout",
     "output_type": "stream",
     "text": [
      "Epoch 1/10\n",
      "2/2 [==============================] - 0s 3ms/step - loss: 1.1409e-22 - accuracy: 1.0000\n",
      "Epoch 2/10\n",
      "2/2 [==============================] - 0s 3ms/step - loss: 2.3233e-08 - accuracy: 1.0000\n",
      "Epoch 3/10\n",
      "2/2 [==============================] - 0s 4ms/step - loss: 4.5611e-21 - accuracy: 1.0000\n",
      "Epoch 4/10\n",
      "2/2 [==============================] - 0s 3ms/step - loss: 1.2676e-17 - accuracy: 1.0000\n",
      "Epoch 5/10\n",
      "2/2 [==============================] - 0s 3ms/step - loss: 4.7443e-17 - accuracy: 1.0000\n",
      "Epoch 6/10\n",
      "2/2 [==============================] - 0s 4ms/step - loss: 1.2627e-17 - accuracy: 1.0000\n",
      "Epoch 7/10\n",
      "2/2 [==============================] - 0s 2ms/step - loss: 4.1215e-11 - accuracy: 1.0000\n",
      "Epoch 8/10\n",
      "2/2 [==============================] - 0s 2ms/step - loss: 6.4255e-21 - accuracy: 1.0000\n",
      "Epoch 9/10\n",
      "2/2 [==============================] - 0s 2ms/step - loss: 2.6176e-19 - accuracy: 1.0000\n",
      "Epoch 10/10\n",
      "2/2 [==============================] - 0s 3ms/step - loss: 7.2730e-20 - accuracy: 1.0000\n"
     ]
    },
    {
     "data": {
      "text/plain": "<keras.callbacks.History at 0x13ca5fbe0>"
     },
     "execution_count": 40,
     "metadata": {},
     "output_type": "execute_result"
    }
   ],
   "source": [
    "# Train the model\n",
    "model.fit(\n",
    "    X_train,\n",
    "    Y_train,\n",
    "    epochs=10,\n",
    "    shuffle=True\n",
    ")"
   ],
   "metadata": {
    "collapsed": false,
    "ExecuteTime": {
     "start_time": "2023-05-01T22:36:24.963133Z",
     "end_time": "2023-05-01T22:36:25.077794Z"
    }
   }
  },
  {
   "cell_type": "code",
   "execution_count": 42,
   "outputs": [
    {
     "data": {
      "text/plain": "1450"
     },
     "execution_count": 42,
     "metadata": {},
     "output_type": "execute_result"
    }
   ],
   "source": [
    "# Save the neural network structure\n",
    "model_structure = model.to_json()\n",
    "f = Path(\"./transfer-learning/model_structure.json\")\n",
    "f.write_text(model_structure)"
   ],
   "metadata": {
    "collapsed": false,
    "ExecuteTime": {
     "start_time": "2023-05-01T22:38:10.669300Z",
     "end_time": "2023-05-01T22:38:10.680726Z"
    }
   }
  },
  {
   "cell_type": "code",
   "execution_count": 43,
   "outputs": [],
   "source": [
    "# Save the neural network trained weights\n",
    "model.save_weights(\"./transfer-learning/model_weights.h5\")"
   ],
   "metadata": {
    "collapsed": false,
    "ExecuteTime": {
     "start_time": "2023-05-01T22:39:24.772750Z",
     "end_time": "2023-05-01T22:39:24.847835Z"
    }
   }
  },
  {
   "cell_type": "code",
   "execution_count": 44,
   "outputs": [],
   "source": [
    "# Load the json file the contains the model structure\n",
    "f = Path(\"./transfer-learning/model_structure.json\")\n",
    "model_structure = f.read_text()"
   ],
   "metadata": {
    "collapsed": false,
    "ExecuteTime": {
     "start_time": "2023-05-01T22:46:04.478450Z",
     "end_time": "2023-05-01T22:46:04.500891Z"
    }
   }
  },
  {
   "cell_type": "code",
   "execution_count": 47,
   "outputs": [],
   "source": [
    "# Create the keras model object from the model_structure json data\n",
    "model = model_from_json(model_structure)"
   ],
   "metadata": {
    "collapsed": false,
    "ExecuteTime": {
     "start_time": "2023-05-01T22:48:58.395549Z",
     "end_time": "2023-05-01T22:48:58.466165Z"
    }
   }
  },
  {
   "cell_type": "code",
   "execution_count": 48,
   "outputs": [],
   "source": [
    "# Re-load the models trained weigths\n",
    "model.load_weights(\"./transfer-learning/model_weights.h5\")"
   ],
   "metadata": {
    "collapsed": false,
    "ExecuteTime": {
     "start_time": "2023-05-01T22:50:29.909810Z",
     "end_time": "2023-05-01T22:50:29.985608Z"
    }
   }
  },
  {
   "cell_type": "code",
   "execution_count": 65,
   "outputs": [],
   "source": [
    "# Load an image file to predict\n",
    "# Resie the image to (64, 64) pixel image required by the model\n",
    "img = image.image_utils.load_img(\"./images/not_dog.png\", target_size=(64, 64))\n",
    "\n",
    "# Convert the image to a numpy array\n",
    "img_array = image.image_utils.img_to_array(img)\n",
    "\n",
    "# Add a fourth dimesion to the image\n",
    "# keras expects a list of images not a single image\n",
    "images = np.expand_dims(img_array, axis=0)"
   ],
   "metadata": {
    "collapsed": false,
    "ExecuteTime": {
     "start_time": "2023-05-01T23:03:53.216922Z",
     "end_time": "2023-05-01T23:03:53.224197Z"
    }
   }
  },
  {
   "cell_type": "code",
   "execution_count": 66,
   "outputs": [],
   "source": [
    "# Normalize the data\n",
    "images = vgg19.preprocess_input(images)"
   ],
   "metadata": {
    "collapsed": false,
    "ExecuteTime": {
     "start_time": "2023-05-01T23:03:53.402814Z",
     "end_time": "2023-05-01T23:03:53.410164Z"
    }
   }
  },
  {
   "cell_type": "code",
   "execution_count": 67,
   "outputs": [],
   "source": [
    "# use the pre-trained neural network to extract features from out test image\n",
    "feature_extraction_model = vgg19.VGG19(weights=\"imagenet\", include_top=False, input_shape=(64, 64, 3))"
   ],
   "metadata": {
    "collapsed": false,
    "ExecuteTime": {
     "start_time": "2023-05-01T23:03:53.618382Z",
     "end_time": "2023-05-01T23:03:53.961858Z"
    }
   }
  },
  {
   "cell_type": "code",
   "execution_count": 68,
   "outputs": [
    {
     "name": "stdout",
     "output_type": "stream",
     "text": [
      "1/1 [==============================] - 0s 76ms/step\n"
     ]
    }
   ],
   "source": [
    "# Make predictions of features\n",
    "features = feature_extraction_model.predict(images)"
   ],
   "metadata": {
    "collapsed": false,
    "ExecuteTime": {
     "start_time": "2023-05-01T23:03:53.963086Z",
     "end_time": "2023-05-01T23:03:54.054456Z"
    }
   }
  },
  {
   "cell_type": "code",
   "execution_count": 69,
   "outputs": [
    {
     "name": "stdout",
     "output_type": "stream",
     "text": [
      "1/1 [==============================] - 0s 15ms/step\n"
     ]
    }
   ],
   "source": [
    "# Given the extracted features\n",
    "# Make final predictions using the saved model\n",
    "results = model.predict(features)"
   ],
   "metadata": {
    "collapsed": false,
    "ExecuteTime": {
     "start_time": "2023-05-01T23:03:54.338477Z",
     "end_time": "2023-05-01T23:03:54.378190Z"
    }
   }
  },
  {
   "cell_type": "code",
   "execution_count": 70,
   "outputs": [],
   "source": [
    "# Since we are only predicting one image with possible class\n",
    "# We only need check the first result's first element\n",
    "single_result = results[0][0]"
   ],
   "metadata": {
    "collapsed": false,
    "ExecuteTime": {
     "start_time": "2023-05-01T23:03:54.575525Z",
     "end_time": "2023-05-01T23:03:54.582487Z"
    }
   }
  },
  {
   "cell_type": "code",
   "execution_count": 71,
   "outputs": [
    {
     "name": "stdout",
     "output_type": "stream",
     "text": [
      "Likelihood that this image contains a dog: 0\n"
     ]
    }
   ],
   "source": [
    "# Print the results\n",
    "print(f\"Likelihood that this image contains a dog: {int(single_result * 100)}\")"
   ],
   "metadata": {
    "collapsed": false,
    "ExecuteTime": {
     "start_time": "2023-05-01T23:03:57.014024Z",
     "end_time": "2023-05-01T23:03:57.022409Z"
    }
   }
  }
 ],
 "metadata": {
  "kernelspec": {
   "display_name": "Python 3",
   "language": "python",
   "name": "python3"
  },
  "language_info": {
   "codemirror_mode": {
    "name": "ipython",
    "version": 2
   },
   "file_extension": ".py",
   "mimetype": "text/x-python",
   "name": "python",
   "nbconvert_exporter": "python",
   "pygments_lexer": "ipython2",
   "version": "2.7.6"
  }
 },
 "nbformat": 4,
 "nbformat_minor": 0
}
