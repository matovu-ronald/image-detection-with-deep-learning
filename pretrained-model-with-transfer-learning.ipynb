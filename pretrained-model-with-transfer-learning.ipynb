{
 "cells": [
  {
   "cell_type": "code",
   "execution_count": 18,
   "metadata": {
    "collapsed": true,
    "ExecuteTime": {
     "start_time": "2023-05-01T22:15:39.709184Z",
     "end_time": "2023-05-01T22:15:39.715286Z"
    }
   },
   "outputs": [],
   "source": [
    "import numpy as np\n",
    "from keras.preprocessing import image\n",
    "from keras.applications import vgg19\n",
    "from pathlib import Path\n",
    "import joblib"
   ]
  },
  {
   "cell_type": "code",
   "execution_count": 19,
   "outputs": [],
   "source": [
    "# Load keras VGG19 model that was pre-trained on against the ImageNet databse\n",
    "model = vgg19.VGG19()"
   ],
   "metadata": {
    "collapsed": false,
    "ExecuteTime": {
     "start_time": "2023-05-01T22:15:40.058960Z",
     "end_time": "2023-05-01T22:15:42.422233Z"
    }
   }
  },
  {
   "cell_type": "code",
   "execution_count": 20,
   "outputs": [],
   "source": [
    "# Load the image file\n",
    "# Resize it to 224*224 pixels (required by this model)\n",
    "img = image.image_utils.load_img(\"./images/bay.jpg\", target_size=(224, 224))\n",
    "\n",
    "# Convert the image to numpy array\n",
    "x = image.image_utils.img_to_array(img)\n",
    "\n",
    "# Add fourth dimension since keras expects a list of images\n",
    "x = np.expand_dims(x, axis=0)"
   ],
   "metadata": {
    "collapsed": false,
    "ExecuteTime": {
     "start_time": "2023-05-01T22:15:42.422168Z",
     "end_time": "2023-05-01T22:15:42.450664Z"
    }
   }
  },
  {
   "cell_type": "code",
   "execution_count": 21,
   "outputs": [],
   "source": [
    "# Normalize the input image's pixel values to the range used when training the neural network\n",
    "x = vgg19.preprocess_input(x)"
   ],
   "metadata": {
    "collapsed": false,
    "ExecuteTime": {
     "start_time": "2023-05-01T22:15:42.449728Z",
     "end_time": "2023-05-01T22:15:42.455588Z"
    }
   }
  },
  {
   "cell_type": "code",
   "execution_count": 22,
   "outputs": [
    {
     "name": "stdout",
     "output_type": "stream",
     "text": [
      "1/1 [==============================] - 0s 296ms/step\n"
     ]
    }
   ],
   "source": [
    "# Run the image through the deep neural network to perform prediction\n",
    "predictions = model.predict(x)"
   ],
   "metadata": {
    "collapsed": false,
    "ExecuteTime": {
     "start_time": "2023-05-01T22:15:42.454496Z",
     "end_time": "2023-05-01T22:15:42.802392Z"
    }
   }
  },
  {
   "cell_type": "code",
   "execution_count": 23,
   "outputs": [],
   "source": [
    "# Look up the the names of the prediction classes.\n",
    "# Index Zero is the result for the first image\n",
    "predicted_classes = vgg19.decode_predictions(predictions)"
   ],
   "metadata": {
    "collapsed": false,
    "ExecuteTime": {
     "start_time": "2023-05-01T22:15:42.803396Z",
     "end_time": "2023-05-01T22:15:42.804821Z"
    }
   }
  },
  {
   "cell_type": "code",
   "execution_count": 24,
   "outputs": [
    {
     "name": "stdout",
     "output_type": "stream",
     "text": [
      "Prediction: seashore – 0.60\n",
      "Prediction: promontory – 0.23\n",
      "Prediction: sandbar – 0.07\n",
      "Prediction: lakeside – 0.04\n",
      "Prediction: breakwater – 0.02\n"
     ]
    }
   ],
   "source": [
    "# Print the top predictions for the image\n",
    "for imagenet_id, name, likelihood in predicted_classes[0]:\n",
    "    print(f\"Prediction: {name} – {likelihood:.2f}\")"
   ],
   "metadata": {
    "collapsed": false,
    "ExecuteTime": {
     "start_time": "2023-05-01T22:15:42.805858Z",
     "end_time": "2023-05-01T22:15:42.807610Z"
    }
   }
  },
  {
   "cell_type": "code",
   "execution_count": 30,
   "outputs": [],
   "source": [
    "# Import training data\n",
    "dog_path = Path(\"./images/training_data/dogs\")\n",
    "not_dog_path = Path(\"./images/training_data/not_dogs\")"
   ],
   "metadata": {
    "collapsed": false,
    "ExecuteTime": {
     "start_time": "2023-05-01T22:18:47.325970Z",
     "end_time": "2023-05-01T22:18:47.327198Z"
    }
   }
  },
  {
   "cell_type": "code",
   "execution_count": 31,
   "outputs": [],
   "source": [
    "# Load images in to the images array and create labels (1 dog, 0 not dog)\n",
    "images = []\n",
    "labels = []\n",
    "\n",
    "# Load all the dog images\n",
    "for img in dog_path.glob(\"*.png\"):\n",
    "    # Load images from the disk\n",
    "    img = image.image_utils.load_img(img)\n",
    "\n",
    "    # Convert the image to numpy array\n",
    "    image_array = image.image_utils.img_to_array(img)\n",
    "\n",
    "    # Add the image to a list of images\n",
    "    images.append(image_array)\n",
    "\n",
    "    # For each dog image, the label should 1\n",
    "    labels.append(1)\n",
    "\n",
    "# Load all the not-dog images\n",
    "for img in not_dog_path.glob(\"*.png\"):\n",
    "    # Load images from the disk\n",
    "    img = image.image_utils.load_img(img)\n",
    "\n",
    "    # Convert the image to numpy array\n",
    "    image_array = image.image_utils.img_to_array(img)\n",
    "\n",
    "    # Add the image to a list of images\n",
    "    images.append(image_array)\n",
    "\n",
    "    # For each not-dog image, the label should 0\n",
    "    labels.append(0)"
   ],
   "metadata": {
    "collapsed": false,
    "ExecuteTime": {
     "start_time": "2023-05-01T22:18:48.160127Z",
     "end_time": "2023-05-01T22:18:48.203755Z"
    }
   }
  },
  {
   "cell_type": "code",
   "execution_count": 32,
   "outputs": [
    {
     "name": "stdout",
     "output_type": "stream",
     "text": [
      "Downloading data from https://storage.googleapis.com/tensorflow/keras-applications/vgg19/vgg19_weights_tf_dim_ordering_tf_kernels_notop.h5\n",
      "80134624/80134624 [==============================] - 24s 0us/step\n",
      "2/2 [==============================] - 1s 294ms/step\n"
     ]
    }
   ],
   "source": [
    "# Create a single numpy array with all the images loaded\n",
    "X_train = np.array(images)\n",
    "\n",
    "# Create a single numpy array with all the labels created\n",
    "Y_train = np.array(labels)\n",
    "\n",
    "# Normalize image data to (0 - 1) range\n",
    "X_train = vgg19.preprocess_input(X_train)\n",
    "\n",
    "# Load a pre-trained neural network to use as feature extractor\n",
    "pre_trained_nn = vgg19.VGG19(weights=\"imagenet\", include_top=False, input_shape=(64, 64, 3))\n",
    "\n",
    "# Extract features for each image (all in one pass)\n",
    "features_X = pre_trained_nn.predict(X_train)"
   ],
   "metadata": {
    "collapsed": false,
    "ExecuteTime": {
     "start_time": "2023-05-01T22:24:32.839306Z",
     "end_time": "2023-05-01T22:24:59.691934Z"
    }
   }
  },
  {
   "cell_type": "code",
   "execution_count": 33,
   "outputs": [
    {
     "data": {
      "text/plain": "['X_train.dat']"
     },
     "execution_count": 33,
     "metadata": {},
     "output_type": "execute_result"
    }
   ],
   "source": [
    "# Save the the array of extracted features to a file\n",
    "joblib.dump(features_X, \"X_train.dat\")"
   ],
   "metadata": {
    "collapsed": false,
    "ExecuteTime": {
     "start_time": "2023-05-01T22:25:33.471156Z",
     "end_time": "2023-05-01T22:25:33.519052Z"
    }
   }
  },
  {
   "cell_type": "code",
   "execution_count": 34,
   "outputs": [
    {
     "data": {
      "text/plain": "['Y_train.dat']"
     },
     "execution_count": 34,
     "metadata": {},
     "output_type": "execute_result"
    }
   ],
   "source": [
    "# Save the matching array of expected values to a file\n",
    "joblib.dump(Y_train, \"Y_train.dat\")"
   ],
   "metadata": {
    "collapsed": false,
    "ExecuteTime": {
     "start_time": "2023-05-01T22:26:15.699956Z",
     "end_time": "2023-05-01T22:26:15.746252Z"
    }
   }
  },
  {
   "cell_type": "code",
   "execution_count": null,
   "outputs": [],
   "source": [],
   "metadata": {
    "collapsed": false
   }
  }
 ],
 "metadata": {
  "kernelspec": {
   "display_name": "Python 3",
   "language": "python",
   "name": "python3"
  },
  "language_info": {
   "codemirror_mode": {
    "name": "ipython",
    "version": 2
   },
   "file_extension": ".py",
   "mimetype": "text/x-python",
   "name": "python",
   "nbconvert_exporter": "python",
   "pygments_lexer": "ipython2",
   "version": "2.7.6"
  }
 },
 "nbformat": 4,
 "nbformat_minor": 0
}
