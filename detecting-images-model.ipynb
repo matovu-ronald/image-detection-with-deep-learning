{
 "cells": [
  {
   "cell_type": "code",
   "execution_count": 35,
   "metadata": {
    "collapsed": true,
    "ExecuteTime": {
     "start_time": "2023-05-01T18:54:18.763559Z",
     "end_time": "2023-05-01T18:54:18.771750Z"
    }
   },
   "outputs": [],
   "source": [
    "import keras\n",
    "from keras.datasets import cifar10\n",
    "from keras.models import Sequential\n",
    "from keras.layers import Dense, Dropout, MaxPooling2D, Flatten, Conv2D\n",
    "from pathlib import Path"
   ]
  },
  {
   "cell_type": "code",
   "execution_count": 36,
   "outputs": [],
   "source": [
    "# Load the dataset\n",
    "(X_train, Y_train), (x_test, y_test) = cifar10.load_data()"
   ],
   "metadata": {
    "collapsed": false,
    "ExecuteTime": {
     "start_time": "2023-05-01T18:54:19.007306Z",
     "end_time": "2023-05-01T18:54:19.361810Z"
    }
   }
  },
  {
   "cell_type": "code",
   "execution_count": 37,
   "outputs": [],
   "source": [
    "# Normalize the dataset to (0 - 1) from the (0 - 255)\n",
    "X_train = X_train.astype(\"float32\")\n",
    "x_test = x_test.astype(\"float32\")\n",
    "X_train /= 255\n",
    "x_test /= 255"
   ],
   "metadata": {
    "collapsed": false,
    "ExecuteTime": {
     "start_time": "2023-05-01T18:54:19.364932Z",
     "end_time": "2023-05-01T18:54:19.793643Z"
    }
   }
  },
  {
   "cell_type": "code",
   "execution_count": 38,
   "outputs": [],
   "source": [
    "# Convert class vectors to binary class matrices\n",
    "# Our labels are single values from 0 to 9\n",
    "# Instead we want each label to be an array with an element set to 1 and the rest set to 9\n",
    "Y_train = keras.utils.to_categorical(Y_train, 10)\n",
    "y_test = keras.utils.to_categorical(y_test, 10)"
   ],
   "metadata": {
    "collapsed": false,
    "ExecuteTime": {
     "start_time": "2023-05-01T18:54:19.795058Z",
     "end_time": "2023-05-01T18:54:19.800697Z"
    }
   }
  },
  {
   "cell_type": "code",
   "execution_count": 39,
   "outputs": [],
   "source": [
    "# Create a model and add layers\n",
    "model = Sequential()\n",
    "\n",
    "# Convolution neural layers\n",
    "model.add(Conv2D(32, (3, 3), padding=\"same\", activation=\"relu\", input_shape=(32, 32, 3)))\n",
    "model.add(Conv2D(32, (3, 3), activation=\"relu\"))\n",
    "model.add(MaxPooling2D(pool_size=(2, 2)))\n",
    "model.add(Dropout(0.25))\n",
    "\n",
    "model.add(Conv2D(64, (3, 3), padding=\"same\", activation=\"relu\"))\n",
    "model.add(Conv2D(64, (3, 3), activation=\"relu\"))\n",
    "model.add(MaxPooling2D(pool_size=(2, 2)))\n",
    "model.add(Dropout(0.25))\n",
    "\n",
    "# Flatten the Convolution layer output\n",
    "model.add(Flatten())\n",
    "\n",
    "model.add(Dense(512, activation=\"relu\"))\n",
    "model.add(Dropout(0.5))\n",
    "model.add(Dense(10, activation=\"softmax\"))"
   ],
   "metadata": {
    "collapsed": false,
    "ExecuteTime": {
     "start_time": "2023-05-01T18:54:19.810570Z",
     "end_time": "2023-05-01T18:54:19.880732Z"
    }
   }
  },
  {
   "cell_type": "code",
   "execution_count": 40,
   "outputs": [],
   "source": [
    "# Compile the model\n",
    "model.compile(\n",
    "    loss=\"categorical_crossentropy\",\n",
    "    optimizer=\"adam\",\n",
    "    metrics=[\"accuracy\"]\n",
    ")"
   ],
   "metadata": {
    "collapsed": false,
    "ExecuteTime": {
     "start_time": "2023-05-01T18:54:19.884162Z",
     "end_time": "2023-05-01T18:54:19.887433Z"
    }
   }
  },
  {
   "cell_type": "code",
   "execution_count": 41,
   "outputs": [
    {
     "name": "stdout",
     "output_type": "stream",
     "text": [
      "Model: \"sequential_8\"\n",
      "_________________________________________________________________\n",
      " Layer (type)                Output Shape              Param #   \n",
      "=================================================================\n",
      " conv2d_26 (Conv2D)          (None, 32, 32, 32)        896       \n",
      "                                                                 \n",
      " conv2d_27 (Conv2D)          (None, 30, 30, 32)        9248      \n",
      "                                                                 \n",
      " max_pooling2d_10 (MaxPoolin  (None, 15, 15, 32)       0         \n",
      " g2D)                                                            \n",
      "                                                                 \n",
      " dropout_12 (Dropout)        (None, 15, 15, 32)        0         \n",
      "                                                                 \n",
      " conv2d_28 (Conv2D)          (None, 15, 15, 64)        18496     \n",
      "                                                                 \n",
      " conv2d_29 (Conv2D)          (None, 13, 13, 64)        36928     \n",
      "                                                                 \n",
      " max_pooling2d_11 (MaxPoolin  (None, 6, 6, 64)         0         \n",
      " g2D)                                                            \n",
      "                                                                 \n",
      " dropout_13 (Dropout)        (None, 6, 6, 64)          0         \n",
      "                                                                 \n",
      " flatten_6 (Flatten)         (None, 2304)              0         \n",
      "                                                                 \n",
      " dense_14 (Dense)            (None, 512)               1180160   \n",
      "                                                                 \n",
      " dropout_14 (Dropout)        (None, 512)               0         \n",
      "                                                                 \n",
      " dense_15 (Dense)            (None, 10)                5130      \n",
      "                                                                 \n",
      "=================================================================\n",
      "Total params: 1,250,858\n",
      "Trainable params: 1,250,858\n",
      "Non-trainable params: 0\n",
      "_________________________________________________________________\n"
     ]
    }
   ],
   "source": [
    "# Model summary\n",
    "model.summary()"
   ],
   "metadata": {
    "collapsed": false,
    "ExecuteTime": {
     "start_time": "2023-05-01T18:54:21.089140Z",
     "end_time": "2023-05-01T18:54:21.156527Z"
    }
   }
  },
  {
   "cell_type": "code",
   "execution_count": 42,
   "outputs": [
    {
     "name": "stdout",
     "output_type": "stream",
     "text": [
      "Epoch 1/20\n",
      "391/391 [==============================] - 72s 182ms/step - loss: 1.6107 - accuracy: 0.4064 - val_loss: 1.2700 - val_accuracy: 0.5397\n",
      "Epoch 2/20\n",
      "391/391 [==============================] - 71s 182ms/step - loss: 1.2039 - accuracy: 0.5685 - val_loss: 1.0538 - val_accuracy: 0.6212\n",
      "Epoch 3/20\n",
      "391/391 [==============================] - 75s 193ms/step - loss: 1.0308 - accuracy: 0.6353 - val_loss: 0.9094 - val_accuracy: 0.6856\n",
      "Epoch 4/20\n",
      "391/391 [==============================] - 71s 182ms/step - loss: 0.9217 - accuracy: 0.6731 - val_loss: 0.8855 - val_accuracy: 0.6897\n",
      "Epoch 5/20\n",
      "391/391 [==============================] - 74s 189ms/step - loss: 0.8383 - accuracy: 0.7066 - val_loss: 0.7809 - val_accuracy: 0.7267\n",
      "Epoch 6/20\n",
      "391/391 [==============================] - 72s 184ms/step - loss: 0.7821 - accuracy: 0.7264 - val_loss: 0.7264 - val_accuracy: 0.7461\n",
      "Epoch 7/20\n",
      "391/391 [==============================] - 73s 186ms/step - loss: 0.7327 - accuracy: 0.7422 - val_loss: 0.7015 - val_accuracy: 0.7557\n",
      "Epoch 8/20\n",
      "391/391 [==============================] - 72s 184ms/step - loss: 0.6881 - accuracy: 0.7567 - val_loss: 0.6756 - val_accuracy: 0.7667\n",
      "Epoch 9/20\n",
      "391/391 [==============================] - 72s 184ms/step - loss: 0.6523 - accuracy: 0.7703 - val_loss: 0.6972 - val_accuracy: 0.7576\n",
      "Epoch 10/20\n",
      "391/391 [==============================] - 71s 182ms/step - loss: 0.6204 - accuracy: 0.7851 - val_loss: 0.6855 - val_accuracy: 0.7681\n",
      "Epoch 11/20\n",
      "391/391 [==============================] - 70s 180ms/step - loss: 0.5981 - accuracy: 0.7893 - val_loss: 0.6532 - val_accuracy: 0.7805\n",
      "Epoch 12/20\n",
      "391/391 [==============================] - 71s 181ms/step - loss: 0.5662 - accuracy: 0.7999 - val_loss: 0.6541 - val_accuracy: 0.7768\n",
      "Epoch 13/20\n",
      "391/391 [==============================] - 71s 181ms/step - loss: 0.5478 - accuracy: 0.8064 - val_loss: 0.6097 - val_accuracy: 0.7867\n",
      "Epoch 14/20\n",
      "391/391 [==============================] - 71s 181ms/step - loss: 0.5277 - accuracy: 0.8137 - val_loss: 0.6156 - val_accuracy: 0.7890\n",
      "Epoch 15/20\n",
      "391/391 [==============================] - 71s 181ms/step - loss: 0.5006 - accuracy: 0.8224 - val_loss: 0.6398 - val_accuracy: 0.7840\n",
      "Epoch 16/20\n",
      "391/391 [==============================] - 71s 182ms/step - loss: 0.4824 - accuracy: 0.8286 - val_loss: 0.6134 - val_accuracy: 0.7938\n",
      "Epoch 17/20\n",
      "391/391 [==============================] - 129s 331ms/step - loss: 0.4741 - accuracy: 0.8329 - val_loss: 0.6322 - val_accuracy: 0.7916\n",
      "Epoch 18/20\n",
      "391/391 [==============================] - 73s 186ms/step - loss: 0.4536 - accuracy: 0.8377 - val_loss: 0.6278 - val_accuracy: 0.7919\n",
      "Epoch 19/20\n",
      "391/391 [==============================] - 93s 239ms/step - loss: 0.4380 - accuracy: 0.8430 - val_loss: 0.6312 - val_accuracy: 0.7833\n",
      "Epoch 20/20\n",
      "391/391 [==============================] - 72s 185ms/step - loss: 0.4275 - accuracy: 0.8482 - val_loss: 0.6280 - val_accuracy: 0.7887\n"
     ]
    },
    {
     "data": {
      "text/plain": "<keras.callbacks.History at 0x14a051810>"
     },
     "execution_count": 42,
     "metadata": {},
     "output_type": "execute_result"
    }
   ],
   "source": [
    "# Train the model\n",
    "model.fit(\n",
    "    X_train,\n",
    "    Y_train,\n",
    "    batch_size=128,\n",
    "    epochs=20,\n",
    "    validation_data=(x_test, y_test),\n",
    "    shuffle=True\n",
    ")"
   ],
   "metadata": {
    "collapsed": false,
    "ExecuteTime": {
     "start_time": "2023-05-01T18:54:25.992016Z",
     "end_time": "2023-05-01T19:19:41.880930Z"
    }
   }
  },
  {
   "cell_type": "code",
   "execution_count": 43,
   "outputs": [
    {
     "data": {
      "text/plain": "4410"
     },
     "execution_count": 43,
     "metadata": {},
     "output_type": "execute_result"
    }
   ],
   "source": [
    "# Save the neural network structure\n",
    "model_structure = model.to_json()\n",
    "f = Path(\"model_structure.json\")\n",
    "f.write_text(model_structure)"
   ],
   "metadata": {
    "collapsed": false,
    "ExecuteTime": {
     "start_time": "2023-05-01T19:19:58.103510Z",
     "end_time": "2023-05-01T19:19:58.106890Z"
    }
   }
  },
  {
   "cell_type": "code",
   "execution_count": 44,
   "outputs": [],
   "source": [
    "# Save the neural network's trained weights\n",
    "model.save_weights(\"model_weights.h5\")"
   ],
   "metadata": {
    "collapsed": false,
    "ExecuteTime": {
     "start_time": "2023-05-01T19:20:04.724793Z",
     "end_time": "2023-05-01T19:20:04.757339Z"
    }
   }
  },
  {
   "cell_type": "code",
   "execution_count": null,
   "outputs": [],
   "source": [],
   "metadata": {
    "collapsed": false
   }
  }
 ],
 "metadata": {
  "kernelspec": {
   "display_name": "Python 3",
   "language": "python",
   "name": "python3"
  },
  "language_info": {
   "codemirror_mode": {
    "name": "ipython",
    "version": 2
   },
   "file_extension": ".py",
   "mimetype": "text/x-python",
   "name": "python",
   "nbconvert_exporter": "python",
   "pygments_lexer": "ipython2",
   "version": "2.7.6"
  }
 },
 "nbformat": 4,
 "nbformat_minor": 0
}
